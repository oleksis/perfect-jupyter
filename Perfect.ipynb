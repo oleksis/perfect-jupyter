{
  "cells": [
    {
      "cell_type": "code",
      "execution_count": null,
      "metadata": {},
      "outputs": [],
      "source": [
        "%pip install yt-dlp\n",
        "%pip install ipywidgets==7.7.1\n",
        "%pip install jupyter_contrib_nbextensions\n",
        "# !apt install ffmpeg\n"
      ]
    },
    {
      "cell_type": "code",
      "execution_count": null,
      "metadata": {},
      "outputs": [
        {
          "data": {
            "application/vnd.jupyter.widget-view+json": {
              "model_id": "f4872ff8c5964993a6c109f66fb11e87",
              "version_major": 2,
              "version_minor": 0
            },
            "text/plain": [
              "Text(value='https://youtu.be/9n3A_-HRFfc', description='URL:', placeholder='Enter URL here')"
            ]
          },
          "metadata": {},
          "output_type": "display_data"
        },
        {
          "data": {
            "application/vnd.jupyter.widget-view+json": {
              "model_id": "083a0fc9e0ae41c1a32dcd22448ed4c9",
              "version_major": 2,
              "version_minor": 0
            },
            "text/plain": [
              "Button(button_style='info', description='Share on Twitter', icon='twitter', style=ButtonStyle(), tooltip='Clic…"
            ]
          },
          "metadata": {},
          "output_type": "display_data"
        },
        {
          "name": "stdout",
          "output_type": "stream",
          "text": [
            "[youtube] Extracting URL: https://youtu.be/9n3A_-HRFfc\n",
            "[youtube] 9n3A_-HRFfc: Downloading webpage\n",
            "[youtube] 9n3A_-HRFfc: Downloading ios player API JSON\n",
            "[youtube] 9n3A_-HRFfc: Downloading android player API JSON\n",
            "[youtube] 9n3A_-HRFfc: Downloading m3u8 information\n",
            "[info] 9n3A_-HRFfc: Downloading 1 format(s): 251\n",
            "[download] Destination: Cher - If I Could Turn Back Time (Official Video)_9n3A_-HRFfc.webm\n",
            "[download] 100% of    3.69MiB in 00:00:00 at 7.20MiB/s   \n"
          ]
        }
      ],
      "source": [
        "import urllib.parse\n",
        "import webbrowser\n",
        "\n",
        "import IPython\n",
        "from IPython.display import Audio, clear_output\n",
        "import ipywidgets as widgets\n",
        "import yt_dlp\n",
        "\n",
        "\n",
        "url_input = widgets.Text(\n",
        "    value=\"https://youtu.be/9n3A_-HRFfc\",\n",
        "    placeholder=\"Enter URL here\",\n",
        "    description=\"URL:\",\n",
        "    disabled=False,\n",
        ")\n",
        "\n",
        "share_button = widgets.Button(\n",
        "    description=\"Share on Twitter\",\n",
        "    disabled=False,\n",
        "    button_style=\"info\",\n",
        "    tooltip=\"Click to share\",\n",
        "    icon=\"twitter\",\n",
        ")\n",
        "\n",
        "html_link = IPython.display.HTML(f'<a href=\"#\" target=\"_blank\">Share on X</a>')\n",
        "\n",
        "\n",
        "def on_button_clicked(b):\n",
        "    if download_ogg(url_input.value):\n",
        "        share_url(url_input)\n",
        "\n",
        "\n",
        "def share_url(url=url_input):\n",
        "    url_input_encoded = urllib.parse.quote(url.value)\n",
        "    text = f\"🎧 Check out this amazing song: 🐍\"\n",
        "    text_encoded = urllib.parse.quote(text)\n",
        "    twitter_intent_url = (\n",
        "        f\"https://twitter.com/intent/tweet?text={text_encoded}&url={url_input_encoded}\"\n",
        "    )\n",
        "    html_link = IPython.display.HTML(\n",
        "        f'<a href=\"{twitter_intent_url}\" target=\"_blank\">Share on X</a>'\n",
        "    )\n",
        "    webbrowser.open(twitter_intent_url)\n",
        "    clear_output\n",
        "    return html_link\n",
        "\n",
        "\n",
        "def download_ogg(url, audioformat=\"ogg\"):\n",
        "    options = {\n",
        "        \"format\": \"bestaudio/best\",\n",
        "        \"extractaudio\": True,\n",
        "        \"audioformat\": audioformat,\n",
        "        \"outtmpl\": \"%(title)s_%(id)s.%(ext)s\",\n",
        "        \"noplaylist\": True,\n",
        "    }\n",
        "\n",
        "    with yt_dlp.YoutubeDL(options) as ydl:\n",
        "        ydl.download([url])\n",
        "        return True\n",
        "\n",
        "\n",
        "share_button.on_click(on_button_clicked)\n",
        "clear_output()\n",
        "IPython.display.display(url_input)\n",
        "IPython.display.display(share_button)"
      ]
    },
    {
      "cell_type": "code",
      "execution_count": null,
      "metadata": {},
      "outputs": [],
      "source": [
        "%ls"
      ]
    },
    {
      "cell_type": "code",
      "execution_count": 6,
      "metadata": {},
      "outputs": [
        {
          "name": "stderr",
          "output_type": "stream",
          "text": [
            "ffmpeg version 2023-09-07-git-9c9f48e7f2-full_build-www.gyan.dev Copyright (c) 2000-2023 the FFmpeg developers\n",
            "  built with gcc 12.2.0 (Rev10, Built by MSYS2 project)\n",
            "  configuration: --enable-gpl --enable-version3 --enable-static --disable-w32threads --disable-autodetect --enable-fontconfig --enable-iconv --enable-gnutls --enable-libxml2 --enable-gmp --enable-bzlib --enable-lzma --enable-libsnappy --enable-zlib --enable-librist --enable-libsrt --enable-libssh --enable-libzmq --enable-avisynth --enable-libbluray --enable-libcaca --enable-sdl2 --enable-libaribb24 --enable-libaribcaption --enable-libdav1d --enable-libdavs2 --enable-libuavs3d --enable-libzvbi --enable-librav1e --enable-libsvtav1 --enable-libwebp --enable-libx264 --enable-libx265 --enable-libxavs2 --enable-libxvid --enable-libaom --enable-libjxl --enable-libopenjpeg --enable-libvpx --enable-mediafoundation --enable-libass --enable-frei0r --enable-libfreetype --enable-libfribidi --enable-libharfbuzz --enable-liblensfun --enable-libvidstab --enable-libvmaf --enable-libzimg --enable-amf --enable-cuda-llvm --enable-cuvid --enable-ffnvcodec --enable-nvdec --enable-nvenc --enable-dxva2 --enable-d3d11va --enable-libvpl --enable-libshaderc --enable-vulkan --enable-libplacebo --enable-opencl --enable-libcdio --enable-libgme --enable-libmodplug --enable-libopenmpt --enable-libopencore-amrwb --enable-libmp3lame --enable-libshine --enable-libtheora --enable-libtwolame --enable-libvo-amrwbenc --enable-libcodec2 --enable-libilbc --enable-libgsm --enable-libopencore-amrnb --enable-libopus --enable-libspeex --enable-libvorbis --enable-ladspa --enable-libbs2b --enable-libflite --enable-libmysofa --enable-librubberband --enable-libsoxr --enable-chromaprint\n",
            "  libavutil      58. 19.100 / 58. 19.100\n",
            "  libavcodec     60. 26.100 / 60. 26.100\n",
            "  libavformat    60. 11.100 / 60. 11.100\n",
            "  libavdevice    60.  2.101 / 60.  2.101\n",
            "  libavfilter     9. 11.100 /  9. 11.100\n",
            "  libswscale      7.  3.100 /  7.  3.100\n",
            "  libswresample   4. 11.100 /  4. 11.100\n",
            "  libpostproc    57.  2.100 / 57.  2.100\n",
            "Input #0, matroska,webm, from 'Cher - If I Could Turn Back Time (Official Video)_9n3A_-HRFfc.webm':\n",
            "  Metadata:\n",
            "    encoder         : google/video-file\n",
            "  Duration: 00:04:05.84, start: -0.007000, bitrate: 125 kb/s\n",
            "  Stream #0:0(eng): Audio: opus, 48000 Hz, stereo, fltp (default)\n",
            "Stream mapping:\n",
            "  Stream #0:0 -> #0:0 (opus (native) -> pcm_s16le (native))\n",
            "Press [q] to stop, [?] for help\n",
            "Output #0, wav, to './Cher - If I Could Turn Back Time (Official Video)_9n3A_-HRFfc.wav':\n",
            "  Metadata:\n",
            "    ISFT            : Lavf60.11.100\n",
            "  Stream #0:0(eng): Audio: pcm_s16le ([1][0][0][0] / 0x0001), 44100 Hz, stereo, s16, 1411 kb/s (default)\n",
            "    Metadata:\n",
            "      encoder         : Lavc60.26.100 pcm_s16le\n",
            "size=       0kB time=00:00:00.00 bitrate=   0.0kbits/s speed=7.01e+03x    \n",
            "size=    3584kB time=00:00:22.16 bitrate=1324.9kbits/s speed=44.3x    \n",
            "size=    8448kB time=00:00:49.52 bitrate=1397.5kbits/s speed=49.5x    \n",
            "size=   11264kB time=00:01:05.70 bitrate=1404.5kbits/s speed=43.8x    \n",
            "size=   13824kB time=00:01:20.46 bitrate=1407.5kbits/s speed=40.2x    \n",
            "size=   16128kB time=00:01:35.04 bitrate=1390.2kbits/s speed=  38x    \n",
            "size=   20480kB time=00:01:59.16 bitrate=1408.0kbits/s speed=39.7x    \n",
            "size=   24832kB time=00:02:25.66 bitrate=1396.6kbits/s speed=41.6x    \n",
            "size=   29952kB time=00:02:55.16 bitrate=1400.8kbits/s speed=43.8x    \n",
            "size=   35072kB time=00:03:24.92 bitrate=1402.1kbits/s speed=45.5x    \n",
            "size=   38912kB time=00:03:46.72 bitrate=1406.0kbits/s speed=45.3x    \n",
            "[out#0/wav @ 000002893b876740] video:0kB audio:42348kB subtitle:0kB other streams:0kB global headers:0kB muxing overhead: 0.000180%\n",
            "size=   42348kB time=00:04:05.83 bitrate=1411.2kbits/s speed=46.4x    \n"
          ]
        }
      ],
      "source": [
        "!ffmpeg -i \"Cher - If I Could Turn Back Time (Official Video)_9n3A_-HRFfc.webm\" -vn -c:a pcm_s16le -ar 44100  \"./Cher - If I Could Turn Back Time (Official Video)_9n3A_-HRFfc.wav\"\n"
      ]
    },
    {
      "cell_type": "code",
      "execution_count": null,
      "metadata": {},
      "outputs": [],
      "source": [
        "sound_local = \"Cher - If I Could Turn Back Time (Official Video)_9n3A_-HRFfcF.wav\"\n",
        "Audio(sound_local, autoplay=True)"
      ]
    },
    {
      "cell_type": "markdown",
      "metadata": {},
      "source": [
        "Happy coding! 💖🐍"
      ]
    },
    {
      "cell_type": "code",
      "execution_count": null,
      "metadata": {},
      "outputs": [],
      "source": []
    }
  ],
  "metadata": {
    "kernelspec": {
      "display_name": "Python 3",
      "language": "python",
      "name": "python3"
    },
    "language_info": {
      "codemirror_mode": {
        "name": "ipython",
        "version": 3
      },
      "file_extension": ".py",
      "mimetype": "text/x-python",
      "name": "python",
      "nbconvert_exporter": "python",
      "pygments_lexer": "ipython3",
      "version": "3.11.2"
    }
  },
  "nbformat": 4,
  "nbformat_minor": 2
}
