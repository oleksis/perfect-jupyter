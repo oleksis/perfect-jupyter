{
  "cells": [
    {
      "cell_type": "code",
      "execution_count": null,
      "metadata": {},
      "outputs": [],
      "source": [
        "%pip install yt-dlp\n",
        "%pip install ipywidgets==7.7.1\n",
        "%pip install jupyter_contrib_nbextensions\n",
        "# !apt install ffmpeg\n"
      ]
    },
    {
      "cell_type": "code",
      "execution_count": null,
      "metadata": {},
      "outputs": [],
      "source": [
        "import urllib.parse\n",
        "import webbrowser\n",
        "\n",
        "import IPython\n",
        "from IPython.display import Audio, clear_output\n",
        "import ipywidgets as widgets\n",
        "import yt_dlp\n",
        "\n",
        "\n",
        "url_input = widgets.Text(\n",
        "    value=\"https://youtu.be/7IxDJiQ3tMI\",\n",
        "    placeholder=\"Enter URL here\",\n",
        "    description=\"URL:\",\n",
        "    disabled=False,\n",
        ")\n",
        "\n",
        "share_button = widgets.Button(\n",
        "    description=\"Share on Twitter\",\n",
        "    disabled=False,\n",
        "    button_style=\"info\",\n",
        "    tooltip=\"Click to share\",\n",
        "    icon=\"twitter\",\n",
        ")\n",
        "\n",
        "html_link = IPython.display.HTML(f'<a href=\"#\" target=\"_blank\">Share on X</a>')\n",
        "\n",
        "\n",
        "def on_button_clicked(b):\n",
        "    if download_ogg(url_input.value):\n",
        "        share_url(url_input)\n",
        "\n",
        "\n",
        "def share_url(url=url_input):\n",
        "    url_input_encoded = urllib.parse.quote(url.value)\n",
        "    text = f\"🎧 Check out this amazing song: 🐍\"\n",
        "    text_encoded = urllib.parse.quote(text)\n",
        "    twitter_intent_url = (\n",
        "        f\"https://twitter.com/intent/tweet?text={text_encoded}&url={url_input_encoded}\"\n",
        "    )\n",
        "    html_link = IPython.display.HTML(\n",
        "        f'<a href=\"{twitter_intent_url}\" target=\"_blank\">Share on X</a>'\n",
        "    )\n",
        "    webbrowser.open(twitter_intent_url)\n",
        "    clear_output\n",
        "    return html_link\n",
        "\n",
        "\n",
        "def download_ogg(url, audioformat=\"ogg\"):\n",
        "    options = {\n",
        "        \"format\": \"bestaudio/best\",\n",
        "        \"extractaudio\": True,\n",
        "        \"audioformat\": audioformat,\n",
        "        \"outtmpl\": \"%(title)s_%(id)s.%(ext)s\",\n",
        "        \"noplaylist\": True,\n",
        "    }\n",
        "\n",
        "    with yt_dlp.YoutubeDL(options) as ydl:\n",
        "        ydl.download([url])\n",
        "        return True\n",
        "\n",
        "\n",
        "share_button.on_click(on_button_clicked)\n",
        "clear_output()\n",
        "IPython.display.display(url_input)\n",
        "IPython.display.display(share_button)"
      ]
    },
    {
      "cell_type": "code",
      "execution_count": null,
      "metadata": {},
      "outputs": [],
      "source": [
        "%ls"
      ]
    },
    {
      "cell_type": "code",
      "execution_count": null,
      "metadata": {},
      "outputs": [],
      "source": [
        "!ffmpeg -i \"Nicki Minaj - Pink Friday Girls (Official Audio)_7IxDJiQ3tMI.webm\" -vn -c:a pcm_s16le -ar 44100  \"./Nicki Minaj - Pink Friday Girls (Official Audio)_7IxDJiQ3tMI.wav\"\n"
      ]
    },
    {
      "cell_type": "code",
      "execution_count": null,
      "metadata": {},
      "outputs": [],
      "source": [
        "sound_local = \"Nicki Minaj - Pink Friday Girls (Official Audio)_7IxDJiQ3tMI.wav\"\n",
        "Audio(sound_local, autoplay=True)"
      ]
    },
    {
      "cell_type": "markdown",
      "metadata": {},
      "source": [
        "Happy coding! 💖🐍"
      ]
    },
    {
      "cell_type": "code",
      "execution_count": null,
      "metadata": {},
      "outputs": [],
      "source": []
    }
  ],
  "metadata": {
    "kernelspec": {
      "display_name": "Python 3",
      "language": "python",
      "name": "python3"
    },
    "language_info": {
      "codemirror_mode": {
        "name": "ipython",
        "version": 3
      },
      "file_extension": ".py",
      "mimetype": "text/x-python",
      "name": "python",
      "nbconvert_exporter": "python",
      "pygments_lexer": "ipython3",
      "version": "3.11.2"
    }
  },
  "nbformat": 4,
  "nbformat_minor": 2
}
